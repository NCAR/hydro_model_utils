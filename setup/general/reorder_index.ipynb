{
 "cells": [
  {
   "cell_type": "code",
   "execution_count": 4,
   "metadata": {},
   "outputs": [],
   "source": [
    "import os\n",
    "import xarray as xr\n",
    "import numpy as np\n",
    "\n",
    "# inputs and outputs\n",
    "ipath = '/glade/work/mizukami/test_mizuRoute/NHDPlus_testCase/output'\n",
    "ifile_org = 'runoff_1951-1-1.map.gnu.bmrk.nc'\n",
    "ifile_pio = 'runoff_1951-1-1.pio.map.gnu.bmrk.nc'\n",
    "\n",
    "opath = '/glade/work/nijssen/scratch'\n",
    "ofile = os.path.join(opath, ifile_pio.replace('.nc', '.reorder.nc'))\n",
    "\n",
    "# open the two datafiles\n",
    "ds_org = xr.open_dataset(os.path.join(ipath, ifile_org))\n",
    "ds_pio = xr.open_dataset(os.path.join(ipath, ifile_pio))\n",
    "\n",
    "# extract the reachID orders\n",
    "x = ds_pio.reachID.values\n",
    "y = ds_org.reachID.values\n",
    "\n",
    "# Find the indices of the reordered array\n",
    "# From: https://stackoverflow.com/questions/8251541/numpy-for-every-element-in-one-array-find-the-index-in-another-array\n",
    "index = np.argsort(x)\n",
    "sorted_x = x[index]\n",
    "sorted_index = np.searchsorted(sorted_x, y)\n",
    "remap_order = np.take(index, sorted_index, mode=\"clip\")\n",
    "\n",
    "# Reorder pio according to the orginal\n",
    "ds_reorder = ds_pio.isel(dict(seg=remap_order))\n",
    "\n",
    "# Write to file. reachID should have same order as in the original file\n",
    "ds_reorder.to_netcdf(ofile)"
   ]
  },
  {
   "cell_type": "code",
   "execution_count": 3,
   "metadata": {},
   "outputs": [],
   "source": [
    "ds_org.to_netcdf(os.path.join(opath, ifile_org))"
   ]
  },
  {
   "cell_type": "code",
   "execution_count": null,
   "metadata": {},
   "outputs": [],
   "source": []
  }
 ],
 "metadata": {
  "kernelspec": {
   "display_name": "Python (jtti)",
   "language": "python",
   "name": "jtti"
  },
  "language_info": {
   "codemirror_mode": {
    "name": "ipython",
    "version": 3
   },
   "file_extension": ".py",
   "mimetype": "text/x-python",
   "name": "python",
   "nbconvert_exporter": "python",
   "pygments_lexer": "ipython3",
   "version": "3.7.3"
  }
 },
 "nbformat": 4,
 "nbformat_minor": 2
}
