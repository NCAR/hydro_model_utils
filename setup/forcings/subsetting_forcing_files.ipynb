{
 "cells": [
  {
   "cell_type": "code",
   "execution_count": null,
   "metadata": {},
   "outputs": [],
   "source": [
    "import xarray as xr\n",
    "import os\n",
    "\n",
    "ipath = '/glade/work/gangrade/R18_HUC12_summa/forcings/'\n",
    "opath = '/glade/work/nijssen/scratch'\n",
    "\n",
    "id_list_file = '/glade/work/andywood/wreg/gis/shapes/cali_huc12/cali_hrus.txt'\n",
    "ifile = os.path.join(ipath, 'R18_HUC12.forcing.198001.nc')\n",
    "ofile = os.path.join(opath, 'R18_HUC12.forcing.198001.nc'.replace('.nc', '_subset.nc'))\n",
    "\n",
    "# dimensions along which to subset\n",
    "# note the assumption / limitation is that variables\n",
    "# are not expected to co-vary along multiple dimensions\n",
    "\n",
    "subset_dims = ['hru']\n",
    "subset_files = [id_list_file]\n",
    "\n",
    "ds = xr.open_dataset(ifile)\n",
    "\n",
    "# determine which variables do not vary along any of the subsetted dimensions\n",
    "vars_without = []\n",
    "for var in ds.variables:\n",
    "    if not set(subset_dims).intersection(ds[var].dims):\n",
    "        vars_without.append(var)\n",
    "\n",
    "ds_subset = ds[vars_without]\n",
    "\n",
    "for subset_dim, id_file in zip(subset_dims, subset_files):\n",
    "\n",
    "    with open(id_file) as f:\n",
    "        ids = [int(x) for x in f]\n",
    "\n",
    "    # take the other variables\n",
    "    vars_with = list(set(ds.variables).difference(set(vars_without)))\n",
    "\n",
    "    ds_with = ds[vars_with]\n",
    "    ds_with = ds_with.where(ds_with.hruId.isin(ids), drop=True)\n",
    "    ds_subset = ds_subset.merge(ds_with)\n",
    "\n",
    "# make sure that the subsetted types are the same as the original ones\n",
    "for var in ds_subset.variables:\n",
    "    ds_subset[var] = ds_subset[var].astype(ds[var].dtype)\n",
    "\n",
    "ds_subset.to_netcdf(ofile)\n",
    "\n",
    "a = set(ds_subset.hruId.values)\n",
    "\n",
    "set(ids).difference(a)"
   ]
  },
  {
   "cell_type": "code",
   "execution_count": null,
   "metadata": {},
   "outputs": [],
   "source": []
  }
 ],
 "metadata": {
  "kernelspec": {
   "display_name": "Python (jtti)",
   "language": "python",
   "name": "jtti"
  },
  "language_info": {
   "codemirror_mode": {
    "name": "ipython",
    "version": 3
   },
   "file_extension": ".py",
   "mimetype": "text/x-python",
   "name": "python",
   "nbconvert_exporter": "python",
   "pygments_lexer": "ipython3",
   "version": "3.7.3"
  }
 },
 "nbformat": 4,
 "nbformat_minor": 2
}
