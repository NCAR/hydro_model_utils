{
 "cells": [
  {
   "cell_type": "code",
   "execution_count": null,
   "metadata": {},
   "outputs": [],
   "source": [
    "# Execute to get a new list of reach IDs to select\n",
    "import xarray as xr\n",
    "import os\n",
    "import numpy as np\n",
    "\n",
    "ipath = '/glade/work/mizukami/test_mizuRoute/NHDPlus_testCase/output'\n",
    "opath = '/glade/work/nijssen/scratch'\n",
    "\n",
    "id_list_file = os.path.join(opath, 'rout_id.txt')\n",
    "ifile = 'runoff_1951-1-1.map.gnu.bmrk.nc'\n",
    "ofile = ifile.replace('.nc', '_subset.nc')\n",
    "\n",
    "n = 100\n",
    "ds = xr.open_dataset(os.path.join(ipath, ifile))\n",
    "np.savetxt(id_list_file, np.random.choice(ds.reachID.values, n, replace=False), fmt=\"%ld\")"
   ]
  },
  {
   "cell_type": "code",
   "execution_count": null,
   "metadata": {},
   "outputs": [],
   "source": [
    "%%time\n",
    "\n",
    "import xarray as xr\n",
    "import os\n",
    "\n",
    "ipath = '/glade/work/mizukami/test_mizuRoute/NHDPlus_testCase/output'\n",
    "opath = '/glade/work/nijssen/scratch'\n",
    "\n",
    "id_list_file = os.path.join(opath, 'rout_id.txt')\n",
    "ifile = 'runoff_1951-1-1.map.gnu.bmrk.nc'\n",
    "ofile = ifile.replace('.nc', '_subset.nc')\n",
    "\n",
    "with open(id_list_file) as f:\n",
    "    ids = [int(x) for x in f]\n",
    "\n",
    "ds_org = xr.open_dataset(os.path.join(ipath, ifile))\n",
    "ds = ds_org.drop_dims('hru')\n",
    "\n",
    "ds_subset = ds.where(ds.reachID.isin(ids), drop=True)\n",
    "\n",
    "ds_subset = ds_subset.merge(ds_org.drop_dims('seg'))\n",
    "\n",
    "# make sure that the subsetted types are the same as the original ones\n",
    "for var in ds_subset.variables:\n",
    "    ds_subset[var] = ds_subset[var].astype(ds_org[var].dtype)\n",
    "\n",
    "ds_subset.to_netcdf(os.path.join(opath, ofile))"
   ]
  },
  {
   "cell_type": "code",
   "execution_count": null,
   "metadata": {},
   "outputs": [],
   "source": [
    "a = set(ds_subset.reachID.values)\n",
    "\n",
    "set(ids).difference(a)"
   ]
  },
  {
   "cell_type": "code",
   "execution_count": null,
   "metadata": {},
   "outputs": [],
   "source": []
  }
 ],
 "metadata": {
  "kernelspec": {
   "display_name": "Python (jtti)",
   "language": "python",
   "name": "jtti"
  },
  "language_info": {
   "codemirror_mode": {
    "name": "ipython",
    "version": 3
   },
   "file_extension": ".py",
   "mimetype": "text/x-python",
   "name": "python",
   "nbconvert_exporter": "python",
   "pygments_lexer": "ipython3",
   "version": "3.7.3"
  }
 },
 "nbformat": 4,
 "nbformat_minor": 2
}
